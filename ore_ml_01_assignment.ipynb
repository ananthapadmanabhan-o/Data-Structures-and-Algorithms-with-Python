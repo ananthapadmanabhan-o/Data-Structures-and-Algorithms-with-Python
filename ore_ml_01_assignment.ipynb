{
  "nbformat": 4,
  "nbformat_minor": 0,
  "metadata": {
    "colab": {
      "provenance": [],
      "authorship_tag": "ABX9TyPK4j7YsTW2uCUyuOBz3JlG",
      "include_colab_link": true
    },
    "kernelspec": {
      "name": "python3",
      "display_name": "Python 3"
    }
  },
  "cells": [
    {
      "cell_type": "markdown",
      "metadata": {
        "id": "view-in-github",
        "colab_type": "text"
      },
      "source": [
        "<a href=\"https://colab.research.google.com/github/ananthapadmanabhan-o/Data-Structures-and-Algorithms-with-Python/blob/main/ore_ml_01_assignment.ipynb\" target=\"_parent\"><img src=\"https://colab.research.google.com/assets/colab-badge.svg\" alt=\"Open In Colab\"/></a>"
      ]
    },
    {
      "cell_type": "code",
      "metadata": {
        "id": "PFRQOJNBslxy",
        "colab": {
          "base_uri": "https://localhost:8080/",
          "height": 35
        },
        "outputId": "3e7b3b91-fc2d-4e81-ce34-557b9a28f31c"
      },
      "source": [
        "def prodDigits(num):\n",
        "    product=1\n",
        "    while(num>0):\n",
        "        digit=num%10\n",
        "        product=product*digit\n",
        "        num=num//10\n",
        "    print(\"The product of digits is:\",product)\n",
        "\n",
        "prodDigits(123456789)"
      ],
      "execution_count": null,
      "outputs": [
        {
          "output_type": "stream",
          "text": [
            "The product of digits is: 362880\n"
          ],
          "name": "stdout"
        }
      ]
    },
    {
      "cell_type": "code",
      "metadata": {
        "id": "lgeb71s3sy5J",
        "colab": {
          "base_uri": "https://localhost:8080/",
          "height": 90
        },
        "outputId": "4887812a-3637-4967-ccad-108237d6d294"
      },
      "source": [
        "def perfNum(start, end):\n",
        "    sum1 = 0\n",
        "    for i in range(start, end + 1):\n",
        "      sum1 = 0\n",
        "      for j in range(1, i):\n",
        "          if (i % j == 0):\n",
        "            sum1 = sum1 + j\n",
        "            if (sum1 == i):\n",
        "              print(i)\n",
        "\n",
        "\n",
        "perfNum(0,1000)\n"
      ],
      "execution_count": null,
      "outputs": [
        {
          "output_type": "stream",
          "text": [
            "6\n",
            "24\n",
            "28\n",
            "496\n"
          ],
          "name": "stdout"
        }
      ]
    }
  ]
}